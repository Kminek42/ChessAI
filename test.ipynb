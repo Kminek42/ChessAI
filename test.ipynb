{
 "cells": [
  {
   "cell_type": "code",
   "execution_count": 439,
   "metadata": {},
   "outputs": [],
   "source": [
    "import chess\n",
    "import numpy as np\n",
    "from time import time"
   ]
  },
  {
   "cell_type": "code",
   "execution_count": 440,
   "metadata": {},
   "outputs": [],
   "source": [
    "def board2array(board: chess.Board):\n",
    "    move = board.turn\n",
    "    move = 1 if move else -1\n",
    "    a = str(board)\\\n",
    "    .replace('p', '-1')\\\n",
    "    .replace('b', '-2')\\\n",
    "    .replace('n', '-3')\\\n",
    "    .replace('r', '-4')\\\n",
    "    .replace('q', '-5')\\\n",
    "    .replace('k', '-6')\\\n",
    "    .replace('P', '1')\\\n",
    "    .replace('B', '2')\\\n",
    "    .replace('N', '3')\\\n",
    "    .replace('R', '4')\\\n",
    "    .replace('Q', '5')\\\n",
    "    .replace('K', '6')\\\n",
    "    .replace('.', ' 0')\\\n",
    "    .split()\n",
    "\n",
    "    board = move * np.array([int(x) for x in a]).reshape(8, 8)\n",
    "    if move == -1:\n",
    "        board = np.fliplr(np.flipud(board))\n",
    "    return board"
   ]
  },
  {
   "cell_type": "code",
   "execution_count": 441,
   "metadata": {},
   "outputs": [],
   "source": [
    "class AI:\n",
    "    def __init__(self, genotype):\n",
    "        self.genotype = genotype.reshape(-1, 1)\n",
    "\n",
    "    def evaluate(self, board: chess.Board):\n",
    "        board = board2array(board).astype(np.float32)\n",
    "        board /= 6.0\n",
    "        board = board.reshape(64)\n",
    "        return np.tanh(board @ self.genotype)[0]\n",
    "    \n",
    "    def get_move(self, board: chess.Board):\n",
    "        d = {}\n",
    "        for move in board.legal_moves:\n",
    "            test_board = board.copy()\n",
    "            test_board.push(move)\n",
    "            score = self.evaluate(test_board)\n",
    "            d[move] = score\n",
    "\n",
    "        return max(d, key=d.get)"
   ]
  },
  {
   "cell_type": "code",
   "execution_count": 442,
   "metadata": {},
   "outputs": [],
   "source": [
    "ai = AI(np.random.randn(64))\n",
    "board = chess.Board()"
   ]
  },
  {
   "cell_type": "code",
   "execution_count": 438,
   "metadata": {},
   "outputs": [
    {
     "data": {
      "text/plain": [
       "Move.from_uci('g1h3')"
      ]
     },
     "execution_count": 438,
     "metadata": {},
     "output_type": "execute_result"
    }
   ],
   "source": [
    "ai.get_move(board)"
   ]
  }
 ],
 "metadata": {
  "kernelspec": {
   "display_name": "Python 3",
   "language": "python",
   "name": "python3"
  },
  "language_info": {
   "codemirror_mode": {
    "name": "ipython",
    "version": 3
   },
   "file_extension": ".py",
   "mimetype": "text/x-python",
   "name": "python",
   "nbconvert_exporter": "python",
   "pygments_lexer": "ipython3",
   "version": "3.12.2"
  }
 },
 "nbformat": 4,
 "nbformat_minor": 2
}
